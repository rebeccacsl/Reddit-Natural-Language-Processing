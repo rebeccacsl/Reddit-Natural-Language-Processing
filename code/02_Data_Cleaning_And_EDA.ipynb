{
 "cells": [
  {
   "cell_type": "markdown",
   "id": "8fe79d48",
   "metadata": {},
   "source": [
    "# Project 3: EDA and Data Cleaning"
   ]
  },
  {
   "cell_type": "markdown",
   "id": "b398d29a",
   "metadata": {},
   "source": [
    "# Problem Statement"
   ]
  },
  {
   "cell_type": "markdown",
   "id": "300c8efa",
   "metadata": {},
   "source": [
    "## Is it clear what the goal of the project is?"
   ]
  },
  {
   "cell_type": "markdown",
   "id": "9cee969b",
   "metadata": {},
   "source": [
    "Subreddits are used by millions of users with discussions on topics in specific thread. Discussions, questions and comments are found in each thread which resulted in a treasure cove of information. \n",
    "\n",
    "This project has identified two different subreddits for analysis namely Machine Learning and Statistics. This analysis aims to understand the patterns within each subreddit. Comparison will be done between the two threads to see if there are any correlations between the topic.\n",
    "\n",
    "The subreddit links are as follows:\n",
    "- Machine Learning: https://www.reddit.com/r/MachineLearning/\n",
    "- Statistics: https://www.reddit.com/r/statistics/"
   ]
  },
  {
   "cell_type": "markdown",
   "id": "df599f7c",
   "metadata": {},
   "source": [
    "## What type of model will be developed?"
   ]
  },
  {
   "cell_type": "markdown",
   "id": "12f73501",
   "metadata": {},
   "source": [
    "The data will be explored with the following models:\n",
    "- Logistic Regression\n",
    "- Random Forest"
   ]
  },
  {
   "cell_type": "markdown",
   "id": "0b3abe53",
   "metadata": {},
   "source": [
    "## How will success be evaluated?"
   ]
  },
  {
   "cell_type": "markdown",
   "id": "07de8a9c",
   "metadata": {},
   "source": [
    "Success will be evaluated based on the results from the model. It is dependent on further findings based on trend analysis."
   ]
  },
  {
   "cell_type": "markdown",
   "id": "6b778ee6",
   "metadata": {},
   "source": [
    "## Is the scope of the project appropriate?"
   ]
  },
  {
   "cell_type": "markdown",
   "id": "f064dd02",
   "metadata": {},
   "source": [
    "The scope of the project will be based on the information retrieved on each subreddit using the Prawl api for the threads Statistics and Machine Learning respectively.\n",
    "\n",
    "Each subreddit will have around approximately around 1000 lines of new posts such as questions or discussions. ~1000 lines of data has to be found to be the maximum number of posts that are allowed to be prawled from the data.\n",
    "\n",
    "For each post, information that have been assessed to be useful such as title, post details and comment have been prawled and exported to a csv file for further analysis."
   ]
  },
  {
   "cell_type": "markdown",
   "id": "7ba15d22",
   "metadata": {},
   "source": [
    "## Is it clear who cares about this or why this is important to investigate?"
   ]
  },
  {
   "cell_type": "markdown",
   "id": "6c464104",
   "metadata": {},
   "source": [
    "This is important to be investigated as both Machine Learning and Statistics are closely related topics. Statistics is also considered a prerequisite to Machine Learning. \n",
    "\n",
    "Reference:\n",
    "https://machinelearningmastery.com/what-is-statistics/"
   ]
  },
  {
   "cell_type": "markdown",
   "id": "d1abfb89",
   "metadata": {},
   "source": [
    "## Does the student consider the audience and the primary and secondary stakeholders?"
   ]
  },
  {
   "cell_type": "markdown",
   "id": "f49c4f37",
   "metadata": {},
   "source": [
    "The primary stakeholders would be people who are interested in understanding the correlation between Statistics and Machine Learning such as aspiring Data Scientists who are interested to pick up the concepts. The seconday stakeholders could be aspiring statisticians who are interested to understand in what way does machine learning correlates with statistic."
   ]
  },
  {
   "cell_type": "markdown",
   "id": "7ebfecb6",
   "metadata": {},
   "source": [
    "# Data Cleaning and EDA"
   ]
  },
  {
   "cell_type": "markdown",
   "id": "808ec667",
   "metadata": {},
   "source": [
    "## Dataset Overview"
   ]
  },
  {
   "cell_type": "markdown",
   "id": "6b76d7d2",
   "metadata": {},
   "source": [
    "The following datasets will be used for the purpose of this analysis.\n",
    "1. machine_learning_df.csv\n",
    "- This dataset contains information that has been prawled from the Machine Learning subreddit.\n",
    "2. statistics_df.csv\n",
    "- This dataset contains information that has been prawled from the Statistics subreddit."
   ]
  },
  {
   "cell_type": "markdown",
   "id": "4d99c78e",
   "metadata": {},
   "source": [
    "## Import Libraries"
   ]
  },
  {
   "cell_type": "code",
   "execution_count": 55,
   "id": "7e9c2dfd",
   "metadata": {},
   "outputs": [],
   "source": [
    "'''Import libraries for data analysis'''\n",
    "import pandas as pd\n",
    "import matplotlib.pyplot as plt\n",
    "\n",
    "'''import libraries for text processing'''\n",
    "from nltk.tokenize import RegexpTokenizer \n",
    "from nltk.corpus import stopwords # import stopwords as baseline for words removal\n",
    "from nltk.stem import WordNetLemmatizer"
   ]
  },
  {
   "cell_type": "markdown",
   "id": "0af44310",
   "metadata": {},
   "source": [
    "## Custom Function"
   ]
  },
  {
   "cell_type": "code",
   "execution_count": 56,
   "id": "4428a595",
   "metadata": {},
   "outputs": [],
   "source": [
    "'''Function prints out shape, first 5 rows, last 5 rows of dataframe'''\n",
    "def print_df_info(dataset):\n",
    "    print('dataframe shape: ', dataset.shape)\n",
    "    print('first 5 rows: ', dataset.head(2))\n",
    "    print('last 5 rows:',dataset.tail(2))\n",
    "    \n",
    "'''Function to show only columns in null value for dataframe '''\n",
    "def show_df_null(dataframe):\n",
    "    null_count_train_df = dataframe.isnull().sum() #create df with count of null\n",
    "    print(null_count_train_df[null_count_train_df>0]) # filter out column where count of null > 0"
   ]
  },
  {
   "cell_type": "markdown",
   "id": "a786cb43",
   "metadata": {},
   "source": [
    "## Load Datasets"
   ]
  },
  {
   "cell_type": "code",
   "execution_count": 57,
   "id": "3cb6ac06",
   "metadata": {},
   "outputs": [],
   "source": [
    "'''Load Machine Learning Subreddit Data'''\n",
    "machine_learning_df = pd.read_csv('../datasets/machine_learning_df.csv')\n",
    "\n",
    "'''Load Statistics Subreddit Data'''\n",
    "statistics_df = pd.read_csv('../datasets/statistics_df.csv')"
   ]
  },
  {
   "cell_type": "code",
   "execution_count": 58,
   "id": "ee760fcd",
   "metadata": {},
   "outputs": [
    {
     "name": "stdout",
     "output_type": "stream",
     "text": [
      "Machine Learning Subreddit:\n",
      "\n",
      "dataframe shape:  (980, 8)\n",
      "first 5 rows:                                                 title  \\\n",
      "0       [N] HuggingFace Model Size: Chrome Extension   \n",
      "1  exploring deep NN activation visualization. [D...   \n",
      "\n",
      "                                            sub_text       id        author  \\\n",
      "0  We've built a chrome extension that shows you ...  13wosgs  dhruvanand93   \n",
      "1  I would like to be able to visualize/ understa...  13wocwz    FachoFacho   \n",
      "\n",
      "    created_utc  score  upvote_ratio  \\\n",
      "0  1.685546e+09      2           1.0   \n",
      "1  1.685545e+09      1           1.0   \n",
      "\n",
      "                                       comments_list  \n",
      "0                                                 []  \n",
      "1  ['It depends what youre asking for. If you wan...  \n",
      "last 5 rows:                                                  title  \\\n",
      "978  [D] Are there no repercussions for breaking du...   \n",
      "979         [D] 1 in 1M false positive for an ML model   \n",
      "\n",
      "                                              sub_text       id  \\\n",
      "978  Looking through ICLR and CVPR papers, I came a...  12fawp0   \n",
      "979  Im working with a problem where the false posi...  12fat6z   \n",
      "\n",
      "                author   created_utc  score  upvote_ratio  \\\n",
      "978         redlow0992  1.680927e+09     51          0.87   \n",
      "979  CaliforniaStories  1.680927e+09     88          0.93   \n",
      "\n",
      "                                         comments_list  \n",
      "978  ['Instead of writing this post on Reddit, you ...  \n",
      "979  ['If you need 99.9999 level precision, I sugge...  \n",
      "--------------------------------------------------\n",
      "Statistics Subreddit:\n",
      "\n",
      "dataframe shape:  (997, 8)\n",
      "first 5 rows:                                                 title  \\\n",
      "0  [Question] Please help me figure out this simp...   \n",
      "1            [Q] In what sense is a variance a mean?   \n",
      "\n",
      "                                            sub_text       id     author  \\\n",
      "0  I cannot figure out how to find this through g...  13wyhnk  earlysong   \n",
      "1  In what sense is a variance a mean?\\n\\n&#x200B...  13wx1s5    SGS0108   \n",
      "\n",
      "    created_utc  score  upvote_ratio  \\\n",
      "0  1.685568e+09      8          0.90   \n",
      "1  1.685565e+09      0          0.25   \n",
      "\n",
      "                                       comments_list  \n",
      "0  ['This is known as the coupon collector proble...  \n",
      "1  ['Compare the formulas for sample mean and sam...  \n",
      "last 5 rows:                                                  title  \\\n",
      "995                               [Q] Kmeans VS Kmodes   \n",
      "996  [Q]Any relation between a Jefferys uninformati...   \n",
      "\n",
      "                                              sub_text       id     author  \\\n",
      "995  Hello everyone!\\n\\nIm was wondering about the ...  119v4rt    AnkanTV   \n",
      "996  Im a fresh masters student and Ive noticed tha...  119q81m  see_2_see   \n",
      "\n",
      "      created_utc  score  upvote_ratio  \\\n",
      "995  1.677151e+09      3          1.00   \n",
      "996  1.677132e+09     42          0.98   \n",
      "\n",
      "                                         comments_list  \n",
      "995  [\"From my understanding, k modes functions lik...  \n",
      "996  [\"Other that what you already noticed, no.\\n\\n...  \n",
      "--------------------------------------------------\n"
     ]
    }
   ],
   "source": [
    "'''Print Machine Learning Dataset Overview'''\n",
    "print('Machine Learning Subreddit:\\n')\n",
    "print_df_info(machine_learning_df)\n",
    "print('-'*50)\n",
    "print('Statistics Subreddit:\\n')\n",
    "print_df_info(statistics_df)\n",
    "print('-'*50)"
   ]
  },
  {
   "cell_type": "markdown",
   "id": "2fbed483",
   "metadata": {},
   "source": [
    "## Data Cleaning"
   ]
  },
  {
   "cell_type": "markdown",
   "id": "b456ba87",
   "metadata": {},
   "source": [
    "### Convert from UTC to datetime"
   ]
  },
  {
   "cell_type": "code",
   "execution_count": 59,
   "id": "26b546d5",
   "metadata": {},
   "outputs": [],
   "source": [
    "'''convert created_utc to datetime for statistics_df'''\n",
    "statistics_df['datetime'] = pd.to_datetime(statistics_df['created_utc'], unit='s', utc=True)\n",
    "\n",
    "'''extract date and year for statistics_df'''\n",
    "statistics_df['year'] = statistics_df['datetime'].dt.year\n",
    "statistics_df['month'] = statistics_df['datetime'].dt.month\n",
    "\n",
    "'''drop column created_utc for statistics'''\n",
    "statistics_df = statistics_df.drop(['created_utc'], axis=1)\n",
    "\n",
    "'''convert created_utc to datetime for machine_learning_df'''\n",
    "machine_learning_df['datetime'] = pd.to_datetime(machine_learning_df['created_utc'], unit='s', utc=True)\n",
    "\n",
    "'''extract date and year for machine_learning_df'''\n",
    "machine_learning_df['year'] = machine_learning_df['datetime'].dt.year\n",
    "machine_learning_df['month'] = machine_learning_df['datetime'].dt.month\n",
    "\n",
    "'''drop column created_utc for machine_learning_df'''\n",
    "machine_learning_df = machine_learning_df.drop(['created_utc'], axis=1)\n",
    "\n"
   ]
  },
  {
   "cell_type": "markdown",
   "id": "db92005f",
   "metadata": {},
   "source": [
    "### Check for missing value"
   ]
  },
  {
   "cell_type": "code",
   "execution_count": 60,
   "id": "4c2aad72",
   "metadata": {},
   "outputs": [
    {
     "name": "stdout",
     "output_type": "stream",
     "text": [
      "Statistics_df:\n",
      "sub_text    29\n",
      "author       2\n",
      "dtype: int64\n",
      "--------------------------------------------------\n",
      "Machine_Learning_df:\n",
      "sub_text    126\n",
      "author        2\n",
      "dtype: int64\n",
      "--------------------------------------------------\n"
     ]
    }
   ],
   "source": [
    "'''check for missing values in statistics_df'''\n",
    "print('Statistics_df:')\n",
    "show_df_null(statistics_df)\n",
    "print('-'*50)\n",
    "\n",
    "'''check for missing values in statistics_df'''\n",
    "print('Machine_Learning_df:')\n",
    "show_df_null(machine_learning_df)\n",
    "print('-'*50)"
   ]
  },
  {
   "cell_type": "markdown",
   "id": "14822623",
   "metadata": {},
   "source": [
    "### Check for info view"
   ]
  },
  {
   "cell_type": "code",
   "execution_count": 61,
   "id": "68ddd748",
   "metadata": {
    "scrolled": true
   },
   "outputs": [
    {
     "name": "stdout",
     "output_type": "stream",
     "text": [
      "<class 'pandas.core.frame.DataFrame'>\n",
      "RangeIndex: 997 entries, 0 to 996\n",
      "Data columns (total 10 columns):\n",
      " #   Column         Non-Null Count  Dtype              \n",
      "---  ------         --------------  -----              \n",
      " 0   title          997 non-null    object             \n",
      " 1   sub_text       968 non-null    object             \n",
      " 2   id             997 non-null    object             \n",
      " 3   author         995 non-null    object             \n",
      " 4   score          997 non-null    int64              \n",
      " 5   upvote_ratio   997 non-null    float64            \n",
      " 6   comments_list  997 non-null    object             \n",
      " 7   datetime       997 non-null    datetime64[ns, UTC]\n",
      " 8   year           997 non-null    int64              \n",
      " 9   month          997 non-null    int64              \n",
      "dtypes: datetime64[ns, UTC](1), float64(1), int64(3), object(5)\n",
      "memory usage: 78.0+ KB\n"
     ]
    }
   ],
   "source": [
    "'''Check info for statistics_df'''\n",
    "statistics_df.info()"
   ]
  },
  {
   "cell_type": "code",
   "execution_count": 62,
   "id": "7e60d5f2",
   "metadata": {},
   "outputs": [
    {
     "name": "stdout",
     "output_type": "stream",
     "text": [
      "<class 'pandas.core.frame.DataFrame'>\n",
      "RangeIndex: 980 entries, 0 to 979\n",
      "Data columns (total 10 columns):\n",
      " #   Column         Non-Null Count  Dtype              \n",
      "---  ------         --------------  -----              \n",
      " 0   title          980 non-null    object             \n",
      " 1   sub_text       854 non-null    object             \n",
      " 2   id             980 non-null    object             \n",
      " 3   author         978 non-null    object             \n",
      " 4   score          980 non-null    int64              \n",
      " 5   upvote_ratio   980 non-null    float64            \n",
      " 6   comments_list  980 non-null    object             \n",
      " 7   datetime       980 non-null    datetime64[ns, UTC]\n",
      " 8   year           980 non-null    int64              \n",
      " 9   month          980 non-null    int64              \n",
      "dtypes: datetime64[ns, UTC](1), float64(1), int64(3), object(5)\n",
      "memory usage: 76.7+ KB\n"
     ]
    }
   ],
   "source": [
    "'''Check info for statistics_df'''\n",
    "machine_learning_df.info()"
   ]
  },
  {
   "cell_type": "markdown",
   "id": "2ff83ce5",
   "metadata": {},
   "source": [
    "### Combined \"title\", \"sub_text\" and \"comments_list\" to one column"
   ]
  },
  {
   "cell_type": "markdown",
   "id": "a6f81488",
   "metadata": {},
   "source": [
    "Observed that sub_text for machine learning is relatively high for 126 out of 980 records at 12.86%. \n",
    "\n",
    "Hence the decision is made not to drop the rows with missing values as the percentage is too significant. Taking into account it is possible to only have a post with only title as it could be self explanatory without the need for additional sub_text.\n",
    "\n",
    "For the purpose of this analysis, titles, sub_text and comment_list will be combined for the analysis as the  objective is to find out\n",
    "is the overall trend of each discussion as a whole for each post."
   ]
  },
  {
   "cell_type": "code",
   "execution_count": 63,
   "id": "c5afefdb",
   "metadata": {},
   "outputs": [],
   "source": [
    "'''create joined column for joined data for statistics_df'''\n",
    "statistics_df['joined_data'] = statistics_df['title'].astype(str) + statistics_df['sub_text'].astype(str) +statistics_df['comments_list'].astype(str)\n",
    "# astype9str) added to convert empty space to string to enable joining.\n",
    "\n",
    "'''create joined column for joined data for machine_learning_df'''\n",
    "machine_learning_df['joined_data'] = machine_learning_df['title'].astype(str) + machine_learning_df['sub_text'].astype(str) +machine_learning_df['comments_list'].astype(str)"
   ]
  },
  {
   "cell_type": "code",
   "execution_count": 66,
   "id": "295008cd",
   "metadata": {
    "scrolled": true
   },
   "outputs": [
    {
     "name": "stdout",
     "output_type": "stream",
     "text": [
      "statistics df top 3 rows\n"
     ]
    },
    {
     "data": {
      "text/html": [
       "<div>\n",
       "<style scoped>\n",
       "    .dataframe tbody tr th:only-of-type {\n",
       "        vertical-align: middle;\n",
       "    }\n",
       "\n",
       "    .dataframe tbody tr th {\n",
       "        vertical-align: top;\n",
       "    }\n",
       "\n",
       "    .dataframe thead th {\n",
       "        text-align: right;\n",
       "    }\n",
       "</style>\n",
       "<table border=\"1\" class=\"dataframe\">\n",
       "  <thead>\n",
       "    <tr style=\"text-align: right;\">\n",
       "      <th></th>\n",
       "      <th>title</th>\n",
       "      <th>sub_text</th>\n",
       "      <th>id</th>\n",
       "      <th>author</th>\n",
       "      <th>score</th>\n",
       "      <th>upvote_ratio</th>\n",
       "      <th>comments_list</th>\n",
       "      <th>datetime</th>\n",
       "      <th>year</th>\n",
       "      <th>month</th>\n",
       "      <th>joined_data</th>\n",
       "    </tr>\n",
       "  </thead>\n",
       "  <tbody>\n",
       "    <tr>\n",
       "      <th>0</th>\n",
       "      <td>[Question] Please help me figure out this simp...</td>\n",
       "      <td>I cannot figure out how to find this through g...</td>\n",
       "      <td>13wyhnk</td>\n",
       "      <td>earlysong</td>\n",
       "      <td>8</td>\n",
       "      <td>0.90</td>\n",
       "      <td>['This is known as the coupon collector proble...</td>\n",
       "      <td>2023-05-31 21:22:03+00:00</td>\n",
       "      <td>2023</td>\n",
       "      <td>5</td>\n",
       "      <td>[Question] Please help me figure out this simp...</td>\n",
       "    </tr>\n",
       "    <tr>\n",
       "      <th>1</th>\n",
       "      <td>[Q] In what sense is a variance a mean?</td>\n",
       "      <td>In what sense is a variance a mean?\\n\\n&amp;#x200B...</td>\n",
       "      <td>13wx1s5</td>\n",
       "      <td>SGS0108</td>\n",
       "      <td>0</td>\n",
       "      <td>0.25</td>\n",
       "      <td>['Compare the formulas for sample mean and sam...</td>\n",
       "      <td>2023-05-31 20:27:53+00:00</td>\n",
       "      <td>2023</td>\n",
       "      <td>5</td>\n",
       "      <td>[Q] In what sense is a variance a mean?In what...</td>\n",
       "    </tr>\n",
       "    <tr>\n",
       "      <th>2</th>\n",
       "      <td>[Q] How to calculate the likelihood with param...</td>\n",
       "      <td>I'm stuck in this for some time. I have a time...</td>\n",
       "      <td>13wubs6</td>\n",
       "      <td>RopsXuh</td>\n",
       "      <td>1</td>\n",
       "      <td>1.00</td>\n",
       "      <td>[\"The poisson has one parameter and you model ...</td>\n",
       "      <td>2023-05-31 18:41:48+00:00</td>\n",
       "      <td>2023</td>\n",
       "      <td>5</td>\n",
       "      <td>[Q] How to calculate the likelihood with param...</td>\n",
       "    </tr>\n",
       "  </tbody>\n",
       "</table>\n",
       "</div>"
      ],
      "text/plain": [
       "                                               title  \\\n",
       "0  [Question] Please help me figure out this simp...   \n",
       "1            [Q] In what sense is a variance a mean?   \n",
       "2  [Q] How to calculate the likelihood with param...   \n",
       "\n",
       "                                            sub_text       id     author  \\\n",
       "0  I cannot figure out how to find this through g...  13wyhnk  earlysong   \n",
       "1  In what sense is a variance a mean?\\n\\n&#x200B...  13wx1s5    SGS0108   \n",
       "2  I'm stuck in this for some time. I have a time...  13wubs6    RopsXuh   \n",
       "\n",
       "   score  upvote_ratio                                      comments_list  \\\n",
       "0      8          0.90  ['This is known as the coupon collector proble...   \n",
       "1      0          0.25  ['Compare the formulas for sample mean and sam...   \n",
       "2      1          1.00  [\"The poisson has one parameter and you model ...   \n",
       "\n",
       "                   datetime  year  month  \\\n",
       "0 2023-05-31 21:22:03+00:00  2023      5   \n",
       "1 2023-05-31 20:27:53+00:00  2023      5   \n",
       "2 2023-05-31 18:41:48+00:00  2023      5   \n",
       "\n",
       "                                         joined_data  \n",
       "0  [Question] Please help me figure out this simp...  \n",
       "1  [Q] In what sense is a variance a mean?In what...  \n",
       "2  [Q] How to calculate the likelihood with param...  "
      ]
     },
     "execution_count": 66,
     "metadata": {},
     "output_type": "execute_result"
    }
   ],
   "source": [
    "'''view the top 5 row of the dataset for statistics'''\n",
    "print('statistics df top 3 rows')\n",
    "statistics_df.head(3)"
   ]
  },
  {
   "cell_type": "code",
   "execution_count": 67,
   "id": "2d7beaf0",
   "metadata": {},
   "outputs": [
    {
     "name": "stdout",
     "output_type": "stream",
     "text": [
      "machine learning df top 3 rows\n"
     ]
    },
    {
     "data": {
      "text/html": [
       "<div>\n",
       "<style scoped>\n",
       "    .dataframe tbody tr th:only-of-type {\n",
       "        vertical-align: middle;\n",
       "    }\n",
       "\n",
       "    .dataframe tbody tr th {\n",
       "        vertical-align: top;\n",
       "    }\n",
       "\n",
       "    .dataframe thead th {\n",
       "        text-align: right;\n",
       "    }\n",
       "</style>\n",
       "<table border=\"1\" class=\"dataframe\">\n",
       "  <thead>\n",
       "    <tr style=\"text-align: right;\">\n",
       "      <th></th>\n",
       "      <th>title</th>\n",
       "      <th>sub_text</th>\n",
       "      <th>id</th>\n",
       "      <th>author</th>\n",
       "      <th>score</th>\n",
       "      <th>upvote_ratio</th>\n",
       "      <th>comments_list</th>\n",
       "      <th>datetime</th>\n",
       "      <th>year</th>\n",
       "      <th>month</th>\n",
       "      <th>joined_data</th>\n",
       "    </tr>\n",
       "  </thead>\n",
       "  <tbody>\n",
       "    <tr>\n",
       "      <th>0</th>\n",
       "      <td>[N] HuggingFace Model Size: Chrome Extension</td>\n",
       "      <td>We've built a chrome extension that shows you ...</td>\n",
       "      <td>13wosgs</td>\n",
       "      <td>dhruvanand93</td>\n",
       "      <td>2</td>\n",
       "      <td>1.0</td>\n",
       "      <td>[]</td>\n",
       "      <td>2023-05-31 15:07:31+00:00</td>\n",
       "      <td>2023</td>\n",
       "      <td>5</td>\n",
       "      <td>[N] HuggingFace Model Size: Chrome ExtensionWe...</td>\n",
       "    </tr>\n",
       "    <tr>\n",
       "      <th>1</th>\n",
       "      <td>exploring deep NN activation visualization. [D...</td>\n",
       "      <td>I would like to be able to visualize/ understa...</td>\n",
       "      <td>13wocwz</td>\n",
       "      <td>FachoFacho</td>\n",
       "      <td>1</td>\n",
       "      <td>1.0</td>\n",
       "      <td>['It depends what youre asking for. If you wan...</td>\n",
       "      <td>2023-05-31 14:51:20+00:00</td>\n",
       "      <td>2023</td>\n",
       "      <td>5</td>\n",
       "      <td>exploring deep NN activation visualization. [D...</td>\n",
       "    </tr>\n",
       "    <tr>\n",
       "      <th>2</th>\n",
       "      <td>[R] Astronomia ex machina: a history, primer a...</td>\n",
       "      <td>[https://doi.org/10.1098/rsos.221454](https://...</td>\n",
       "      <td>13wnleh</td>\n",
       "      <td>Smith4242</td>\n",
       "      <td>2</td>\n",
       "      <td>1.0</td>\n",
       "      <td>[]</td>\n",
       "      <td>2023-05-31 14:19:56+00:00</td>\n",
       "      <td>2023</td>\n",
       "      <td>5</td>\n",
       "      <td>[R] Astronomia ex machina: a history, primer a...</td>\n",
       "    </tr>\n",
       "  </tbody>\n",
       "</table>\n",
       "</div>"
      ],
      "text/plain": [
       "                                               title  \\\n",
       "0       [N] HuggingFace Model Size: Chrome Extension   \n",
       "1  exploring deep NN activation visualization. [D...   \n",
       "2  [R] Astronomia ex machina: a history, primer a...   \n",
       "\n",
       "                                            sub_text       id        author  \\\n",
       "0  We've built a chrome extension that shows you ...  13wosgs  dhruvanand93   \n",
       "1  I would like to be able to visualize/ understa...  13wocwz    FachoFacho   \n",
       "2  [https://doi.org/10.1098/rsos.221454](https://...  13wnleh     Smith4242   \n",
       "\n",
       "   score  upvote_ratio                                      comments_list  \\\n",
       "0      2           1.0                                                 []   \n",
       "1      1           1.0  ['It depends what youre asking for. If you wan...   \n",
       "2      2           1.0                                                 []   \n",
       "\n",
       "                   datetime  year  month  \\\n",
       "0 2023-05-31 15:07:31+00:00  2023      5   \n",
       "1 2023-05-31 14:51:20+00:00  2023      5   \n",
       "2 2023-05-31 14:19:56+00:00  2023      5   \n",
       "\n",
       "                                         joined_data  \n",
       "0  [N] HuggingFace Model Size: Chrome ExtensionWe...  \n",
       "1  exploring deep NN activation visualization. [D...  \n",
       "2  [R] Astronomia ex machina: a history, primer a...  "
      ]
     },
     "execution_count": 67,
     "metadata": {},
     "output_type": "execute_result"
    }
   ],
   "source": [
    "'''view the top 5 row of the dataset for machine learning df'''\n",
    "print('machine learning df top 3 rows')\n",
    "machine_learning_df.head(3)"
   ]
  },
  {
   "cell_type": "markdown",
   "id": "47f88651",
   "metadata": {},
   "source": [
    "### Check upvote_ratio and score"
   ]
  },
  {
   "cell_type": "code",
   "execution_count": 68,
   "id": "aa15833f",
   "metadata": {
    "scrolled": true
   },
   "outputs": [
    {
     "data": {
      "text/plain": [
       "1.00    379\n",
       "0.67     61\n",
       "0.50     60\n",
       "0.75     38\n",
       "0.92     25\n",
       "0.33     22\n",
       "0.94     21\n",
       "0.87     20\n",
       "0.86     19\n",
       "0.93     18\n",
       "0.91     18\n",
       "0.84     18\n",
       "0.60     17\n",
       "0.97     16\n",
       "0.81     15\n",
       "0.90     15\n",
       "0.95     15\n",
       "0.80     14\n",
       "0.96     11\n",
       "0.88     11\n",
       "Name: upvote_ratio, dtype: int64"
      ]
     },
     "execution_count": 68,
     "metadata": {},
     "output_type": "execute_result"
    }
   ],
   "source": [
    "'''view unique upvote count for statistic_df upvote ratio'''\n",
    "'''show top 20 rows'''\n",
    "pd.set_option(\"display.max_rows\", None)\n",
    "statistics_df['upvote_ratio'].value_counts().sort_values(ascending = False).head(20)\n"
   ]
  },
  {
   "cell_type": "code",
   "execution_count": 166,
   "id": "b3e0bbb8",
   "metadata": {},
   "outputs": [
    {
     "data": {
      "text/plain": [
       "1.00    98\n",
       "0.86    36\n",
       "0.88    36\n",
       "0.50    34\n",
       "0.90    33\n",
       "0.95    32\n",
       "0.67    32\n",
       "0.96    29\n",
       "0.92    27\n",
       "0.97    25\n",
       "0.89    25\n",
       "0.80    25\n",
       "0.83    25\n",
       "0.75    25\n",
       "0.85    24\n",
       "0.93    22\n",
       "0.91    21\n",
       "0.94    21\n",
       "0.87    20\n",
       "0.81    18\n",
       "Name: upvote_ratio, dtype: int64"
      ]
     },
     "execution_count": 166,
     "metadata": {},
     "output_type": "execute_result"
    }
   ],
   "source": [
    "'''view unique upvote count for machine_learning_df upvote ratio'''\n",
    "'''show top 20 rows'''\n",
    "pd.set_option(\"display.max_rows\", None)\n",
    "machine_learning_df['upvote_ratio'].value_counts().sort_values(ascending = False).head(20)"
   ]
  },
  {
   "cell_type": "markdown",
   "id": "86f772e4",
   "metadata": {},
   "source": [
    "Upvote_ratio:\n",
    "- On the high level it appears that the statistics subreddit has more posts with a higher scoring of upvote_ratio compared to the machine learning subreddit. However this may not necessarily be true as it could also be due to a lower rate of upvote activity on the particular post. For example, if the post only has 1 upvote, the upvote ratio would be been 1.0."
   ]
  },
  {
   "cell_type": "code",
   "execution_count": 69,
   "id": "1a32c987",
   "metadata": {
    "scrolled": false
   },
   "outputs": [
    {
     "data": {
      "text/plain": [
       "1     221\n",
       "2     137\n",
       "0     132\n",
       "3      94\n",
       "4      41\n",
       "5      36\n",
       "7      32\n",
       "6      31\n",
       "8      21\n",
       "9      21\n",
       "10     21\n",
       "12     18\n",
       "15     15\n",
       "13     15\n",
       "11     13\n",
       "16     11\n",
       "19      7\n",
       "14      6\n",
       "25      6\n",
       "33      6\n",
       "Name: score, dtype: int64"
      ]
     },
     "execution_count": 69,
     "metadata": {},
     "output_type": "execute_result"
    }
   ],
   "source": [
    "'''show unique score for statistic_df'''\n",
    "'''view top 20 values'''\n",
    "statistics_df['score'].value_counts().sort_values(ascending = False).head(20)"
   ]
  },
  {
   "cell_type": "code",
   "execution_count": 165,
   "id": "8c958447",
   "metadata": {
    "scrolled": true
   },
   "outputs": [
    {
     "data": {
      "text/plain": [
       "0     177\n",
       "3      63\n",
       "1      57\n",
       "2      55\n",
       "4      43\n",
       "6      34\n",
       "10     26\n",
       "5      25\n",
       "8      25\n",
       "9      23\n",
       "11     19\n",
       "7      19\n",
       "13     17\n",
       "12     16\n",
       "21     14\n",
       "20     11\n",
       "15     11\n",
       "36      8\n",
       "17      8\n",
       "14      8\n",
       "Name: score, dtype: int64"
      ]
     },
     "execution_count": 165,
     "metadata": {},
     "output_type": "execute_result"
    }
   ],
   "source": [
    "'''show unique score for machine_learning_df'''\n",
    "'''view top 20 values'''\n",
    "machine_learning_df['score'].value_counts().sort_values(ascending = False).head(20)"
   ]
  },
  {
   "cell_type": "markdown",
   "id": "7854a01f",
   "metadata": {},
   "source": [
    "score:\n",
    "- On the high level, it appears that that are more upvote activity for the statistics subreddit, it is observed that the machine learning subreddit has 177 posts with a score of 0.\n",
    "- It is interesting to observed that machine learning subreddit has posts with higher score such as 11 with 19 upvotes.\n",
    "- Currently there is no clear pattern to the trend of the score."
   ]
  },
  {
   "cell_type": "markdown",
   "id": "e5c75686",
   "metadata": {},
   "source": [
    "### Analyse Posts by Time"
   ]
  },
  {
   "cell_type": "code",
   "execution_count": 70,
   "id": "79ce319a",
   "metadata": {},
   "outputs": [
    {
     "name": "stdout",
     "output_type": "stream",
     "text": [
      "statistics year value count:\n",
      "2023    997\n",
      "Name: year, dtype: int64\n",
      "--------------------\n",
      "statistics month value count:\n",
      "3    318\n",
      "4    305\n",
      "5    304\n",
      "2     70\n",
      "Name: month, dtype: int64\n",
      "--------------------\n",
      "machine learning year value count:\n",
      "2023    980\n",
      "Name: year, dtype: int64\n",
      "--------------------\n",
      "machine learning month value count:\n",
      "5    576\n",
      "4    404\n",
      "Name: month, dtype: int64\n",
      "--------------------\n"
     ]
    }
   ],
   "source": [
    "'''check the unique value in column year for statistics_df'''\n",
    "print('statistics year value count:')\n",
    "print(statistics_df['year'].value_counts())\n",
    "print('-'*20)\n",
    "\n",
    "'''check the unique value in column month for statistics_df'''\n",
    "print('statistics month value count:')\n",
    "print(statistics_df['month'].value_counts())\n",
    "print('-'*20)\n",
    "\n",
    "'''check the unique value in column year for machine_learning_df'''\n",
    "print('machine learning year value count:')\n",
    "print(machine_learning_df['year'].value_counts())\n",
    "print('-'*20)\n",
    "\n",
    "'''check the unique value in column month for machine_learning_df'''\n",
    "print('machine learning month value count:')\n",
    "print(machine_learning_df['month'].value_counts())\n",
    "print('-'*20)\n"
   ]
  },
  {
   "cell_type": "markdown",
   "id": "d2da7e83",
   "metadata": {},
   "source": [
    "Observed that both statistics and machine learning only have data from year 2023. Visualisation will be done across the number of post per month to better understand the trend of the activity across the two subreddit."
   ]
  },
  {
   "cell_type": "code",
   "execution_count": 71,
   "id": "ab4ea7d9",
   "metadata": {},
   "outputs": [],
   "source": [
    "'''group statistics post count by month'''\n",
    "statistics_grouped_month = statistics_df.groupby('month').size()\n",
    "\n",
    "'''group machine learning post count by month '''\n",
    "machine_learning_grouped_month = machine_learning_df.groupby('month').size()"
   ]
  },
  {
   "cell_type": "code",
   "execution_count": 72,
   "id": "db980a69",
   "metadata": {},
   "outputs": [
    {
     "data": {
      "text/plain": [
       "month\n",
       "4    404\n",
       "5    576\n",
       "dtype: int64"
      ]
     },
     "execution_count": 72,
     "metadata": {},
     "output_type": "execute_result"
    }
   ],
   "source": [
    "machine_learning_grouped_month"
   ]
  },
  {
   "cell_type": "code",
   "execution_count": 73,
   "id": "ef759a27",
   "metadata": {
    "scrolled": false
   },
   "outputs": [
    {
     "data": {
      "image/png": "[encoded data removed]",
      "text/plain": [
       "<Figure size 1008x648 with 1 Axes>"
      ]
     },
     "metadata": {
      "needs_background": "light"
     },
     "output_type": "display_data"
    }
   ],
   "source": [
    "'''plot trend of number of statistics posts across the month'''\n",
    "# Established the figure size\n",
    "plt.figure(figsize=(14,9))\n",
    "\n",
    "# Plot the grouped data\n",
    "plt.bar(statistics_grouped_month.index, statistics_grouped_month.values, width=0.5)\n",
    "plt.xlabel('Month')\n",
    "plt.ylabel('No of Posts')\n",
    "plt.title('Statistics Post Grouped By Month')\n",
    "plt.show()"
   ]
  },
  {
   "cell_type": "code",
   "execution_count": 74,
   "id": "1f0214ed",
   "metadata": {},
   "outputs": [
    {
     "data": {
      "image/png": "[encoded data removed]",
      "text/plain": [
       "<Figure size 1008x648 with 1 Axes>"
      ]
     },
     "metadata": {
      "needs_background": "light"
     },
     "output_type": "display_data"
    }
   ],
   "source": [
    "'''plot trend of number of machine learning posts across the month'''\n",
    "# Established the figure size\n",
    "plt.figure(figsize=(14,9))\n",
    "\n",
    "# Plot the grouped data\n",
    "plt.bar(machine_learning_grouped_month.index, machine_learning_grouped_month.values,width=0.2)\n",
    "plt.xlabel('Month')\n",
    "plt.ylabel('No of Posts')\n",
    "plt.title('Machine Learning Post Grouped By Month')\n",
    "plt.show()"
   ]
  },
  {
   "cell_type": "markdown",
   "id": "ac97a4f6",
   "metadata": {},
   "source": [
    "It is seen that around 1000 posts, posts from statistics subreddit spans from February 2023 to May 2023, a period of 4 months. Posts from machine learning subreddit for around 1000 posts spans from April 2023 to May 2023, a period of 2 months. For this period of data, it can be seen that machine learning as a subreddit is has more posts than statistics subreddit. It is twice as active compared to the statistic subreddit. "
   ]
  },
  {
   "cell_type": "markdown",
   "id": "fd606b8d",
   "metadata": {},
   "source": [
    "### Tokenise words in joined_column and preprocess data"
   ]
  },
  {
   "cell_type": "code",
   "execution_count": 84,
   "id": "808a0b32",
   "metadata": {},
   "outputs": [],
   "source": [
    "'''function retrieve and tokenize word, converts words to lower case, followed by lemmatisation and removal of stop words'''\n",
    "def tokenize_words(text_info):\n",
    "    #print(text_info)\n",
    "    '''extract words from text to be tokenised'''\n",
    "    tokenizer = RegexpTokenizer(r'\\w+')\n",
    "    '''tokenize sample text and convert it to lowercase'''\n",
    "    extracted_tokens = tokenizer.tokenize(text_info.lower())\n",
    "    '''instantiate lemmatiser'''\n",
    "    lemmatizer = WordNetLemmatizer()\n",
    "    '''lemmatise tokens'''\n",
    "    extracted_tokens_lem = [lemmatizer.lemmatize(i) for i in extracted_tokens]\n",
    "    '''remove stopwords'''\n",
    "    extracted_tokens_lem_no_stopwords = [token for token in extracted_tokens_lem if token not in stopwords.words('english')]\n",
    "    \n",
    "    #print('-'*50)\n",
    "    return extracted_tokens_lem_no_stopwords"
   ]
  },
  {
   "cell_type": "markdown",
   "id": "09fb9dcd",
   "metadata": {},
   "source": [
    "### Explore and analyze join_data in statistics_df"
   ]
  },
  {
   "cell_type": "code",
   "execution_count": 117,
   "id": "5c5b67c8",
   "metadata": {},
   "outputs": [],
   "source": [
    "'''extract join_comments and tokenise it for statistics_df'''\n",
    "statistics_df['tokenize_join_comments'] = statistics_df['joined_data'].apply(tokenize_words).apply(' '.join)"
   ]
  },
  {
   "cell_type": "code",
   "execution_count": 145,
   "id": "fa7191b5",
   "metadata": {},
   "outputs": [
    {
     "name": "stderr",
     "output_type": "stream",
     "text": [
      "C:\\R\\Installer\\20221005_Anaconda\\lib\\site-packages\\sklearn\\utils\\deprecation.py:87: FutureWarning: Function get_feature_names is deprecated; get_feature_names is deprecated in 1.0 and will be removed in 1.2. Please use get_feature_names_out instead.\n",
      "  warnings.warn(msg, category=FutureWarning)\n"
     ]
    },
    {
     "data": {
      "text/plain": [
       "Text(0, 0.5, 'Words')"
      ]
     },
     "execution_count": 145,
     "metadata": {},
     "output_type": "execute_result"
    },
    {
     "data": {
      "image/png": "[encoded data removed]",
      "text/plain": [
       "<Figure size 1440x720 with 1 Axes>"
      ]
     },
     "metadata": {
      "needs_background": "light"
     },
     "output_type": "display_data"
    }
   ],
   "source": [
    "'''Plot and explore words for joined_data in statistics_df'''\n",
    "from sklearn.feature_extraction.text import CountVectorizer\n",
    "\n",
    "# Instantiate a CountVectorizer with the default hyperparameters.\n",
    "custom_stop_words_stats = ['would','like','get','say','doe','one','use','see','wa','two','make','ha','also'\n",
    "                           ,'think','really','even','look','might','could']\n",
    "cvec = CountVectorizer(stop_words = custom_stop_words_stats)\n",
    "\n",
    "# Fit and transform the words from statistics joined_data\n",
    "statistics_joined_tokens_df = statistics_df['tokenize_join_comments']\n",
    "cvec.fit(statistics_joined_tokens_df)\n",
    "cv_trans_statistic = cvec.transform(statistics_joined_tokens_df)\n",
    "\n",
    "cvec.get_feature_names()[1000:1010]\n",
    "# convert training data to dataframe\n",
    "cv_trans_statistic_df = pd.DataFrame(cv_trans_statistic.todense(), columns=cvec.get_feature_names())\n",
    "\n",
    "# # plot top occuring words\n",
    "cv_trans_statistic_df.sum().sort_values(ascending=False).head(50).plot(kind='barh',figsize=(20,10));\n",
    "plt.xlabel('Word Count')\n",
    "plt.ylabel('Words')"
   ]
  },
  {
   "cell_type": "markdown",
   "id": "d69caff2",
   "metadata": {},
   "source": [
    "### Explore and analyze join_data in statistics_df"
   ]
  },
  {
   "cell_type": "code",
   "execution_count": 123,
   "id": "74e450ec",
   "metadata": {},
   "outputs": [],
   "source": [
    "'''extract join_comments and tokenise it for machine_learning_df'''\n",
    "machine_learning_df['tokenize_join_comments'] = machine_learning_df['joined_data'].apply(tokenize_words).apply(' '.join)"
   ]
  },
  {
   "cell_type": "code",
   "execution_count": 149,
   "id": "840292f7",
   "metadata": {},
   "outputs": [
    {
     "name": "stderr",
     "output_type": "stream",
     "text": [
      "C:\\R\\Installer\\20221005_Anaconda\\lib\\site-packages\\sklearn\\utils\\deprecation.py:87: FutureWarning: Function get_feature_names is deprecated; get_feature_names is deprecated in 1.0 and will be removed in 1.2. Please use get_feature_names_out instead.\n",
      "  warnings.warn(msg, category=FutureWarning)\n"
     ]
    },
    {
     "data": {
      "text/plain": [
       "Text(0, 0.5, 'Words')"
      ]
     },
     "execution_count": 149,
     "metadata": {},
     "output_type": "execute_result"
    },
    {
     "data": {
      "image/png": "[encoded data removed]",
      "text/plain": [
       "<Figure size 1440x720 with 1 Axes>"
      ]
     },
     "metadata": {
      "needs_background": "light"
     },
     "output_type": "display_data"
    }
   ],
   "source": [
    "'''Plot and explore words for joined_data in machine learning df'''\n",
    "# Instantiate a CountVectorizer with the default hyperparameters.\n",
    "custom_stop_words_ml = ['also','could','get','know','much','want','doe','ha','use','would'\n",
    "                        ,'wa','think','want','like','even','ni','really','see','lot','way'\n",
    "                        ,'using','think','one','something','many','used','say','need'\n",
    "                        ,'actually','still']\n",
    "cvec = CountVectorizer(stop_words = custom_stop_words_ml) \n",
    "\n",
    "# Fit and transform the words from statistics joined_data\n",
    "ml_joined_tokens_df = machine_learning_df['tokenize_join_comments']\n",
    "cvec.fit(ml_joined_tokens_df)\n",
    "cv_trans_ml = cvec.transform(ml_joined_tokens_df)\n",
    "\n",
    "# convert training data to dataframe\n",
    "cv_trans_ml_df = pd.DataFrame(cv_trans_ml.todense(), columns=cvec.get_feature_names())\n",
    "\n",
    "# plot top occuring words\n",
    "cv_trans_ml_df.sum().sort_values(ascending=False).head(50).plot(kind='barh',figsize=(20,10));\n",
    "plt.xlabel('Word Count')\n",
    "plt.ylabel('Words')"
   ]
  },
  {
   "cell_type": "markdown",
   "id": "ae6f1ae3",
   "metadata": {},
   "source": [
    "The column 'joined_comments' tokenised for both statistics_df and machine_learning_df. Count Vectoriser was than applied to data to analyse what are the the top 50 words for the respective subreddit. The following observations can be seen.\n",
    "\n",
    "Analysis of words used:\n",
    "- 'data' and 'model'are words which are commently used both subreddit. The machine learning subreddit has a higher count where both words are discussed.\n",
    "    - 'model': this is the most commonly used word within the community. This indicates that there is a key interest in the topic of modelling for machine learning.\n",
    "    - 'data': this is the most commonly used word within the community. This indicates that the key focus of the statistics discussion thread involves queries about dataset.\n",
    "- 'http' is a common term that is used within both subreddit. Within the machine learning community, 'http' is used more common at more that 4000 count compared to around 1000 plus counts. This observation indicates that the machine learning community is more likely to share websites on http references compared to thes statistics community.\n",
    "\n",
    "Unique observations on the statistics community subreddit:\n",
    "- Commonly used terms within the community are statistical terms such as 'mean','variable', 'statistics, 'hypothesis', 'linear'. This indicates that the discussion within the statistics community seems to be focused on statistical method. Potentially the discussion could be on how certain statistical method is related or can be used in 'mode' given that 'model' is a commonly used word.\n",
    "\n",
    "Unique observations on the machine learning community subreddit:\n",
    "- words such as 'github' and 'code' indicates that the machine learning community potentially does more coding that than the statistics community.\n",
    "- words such as 'chatgpt', 'gpt','openai', 'a' indicates that artificial intelligence is a topic of interest within the community itself.\n"
   ]
  },
  {
   "cell_type": "markdown",
   "id": "f6caf936",
   "metadata": {},
   "source": [
    "# Concat Statistics and Machine Learning Data"
   ]
  },
  {
   "cell_type": "markdown",
   "id": "8873ae9f",
   "metadata": {},
   "source": [
    "## Review data in statistics and machine learning before concatenating"
   ]
  },
  {
   "cell_type": "code",
   "execution_count": 163,
   "id": "1a158d41",
   "metadata": {},
   "outputs": [
    {
     "name": "stdout",
     "output_type": "stream",
     "text": [
      "Statistics Info: \n",
      "<class 'pandas.core.frame.DataFrame'>\n",
      "RangeIndex: 997 entries, 0 to 996\n",
      "Data columns (total 13 columns):\n",
      " #   Column                  Non-Null Count  Dtype              \n",
      "---  ------                  --------------  -----              \n",
      " 0   title                   997 non-null    object             \n",
      " 1   sub_text                968 non-null    object             \n",
      " 2   id                      997 non-null    object             \n",
      " 3   author                  995 non-null    object             \n",
      " 4   score                   997 non-null    int64              \n",
      " 5   upvote_ratio            997 non-null    float64            \n",
      " 6   comments_list           997 non-null    object             \n",
      " 7   datetime                997 non-null    datetime64[ns, UTC]\n",
      " 8   year                    997 non-null    int64              \n",
      " 9   month                   997 non-null    int64              \n",
      " 10  joined_data             997 non-null    object             \n",
      " 11  tokenize_join_comments  997 non-null    object             \n",
      " 12  is_ml                   997 non-null    int64              \n",
      "dtypes: datetime64[ns, UTC](1), float64(1), int64(4), object(7)\n",
      "memory usage: 101.4+ KB\n",
      "None\n",
      "--------------------------------------------------\n",
      "Machine Learning Info: \n",
      "<class 'pandas.core.frame.DataFrame'>\n",
      "RangeIndex: 980 entries, 0 to 979\n",
      "Data columns (total 13 columns):\n",
      " #   Column                  Non-Null Count  Dtype              \n",
      "---  ------                  --------------  -----              \n",
      " 0   title                   980 non-null    object             \n",
      " 1   sub_text                854 non-null    object             \n",
      " 2   id                      980 non-null    object             \n",
      " 3   author                  978 non-null    object             \n",
      " 4   score                   980 non-null    int64              \n",
      " 5   upvote_ratio            980 non-null    float64            \n",
      " 6   comments_list           980 non-null    object             \n",
      " 7   datetime                980 non-null    datetime64[ns, UTC]\n",
      " 8   year                    980 non-null    int64              \n",
      " 9   month                   980 non-null    int64              \n",
      " 10  joined_data             980 non-null    object             \n",
      " 11  tokenize_join_comments  980 non-null    object             \n",
      " 12  is_ml                   980 non-null    int64              \n",
      "dtypes: datetime64[ns, UTC](1), float64(1), int64(4), object(7)\n",
      "memory usage: 99.7+ KB\n",
      "None\n",
      "--------------------------------------------------\n"
     ]
    }
   ],
   "source": [
    "'''Print Information on Statistics'''\n",
    "print('Statistics Info: ')\n",
    "print(statistics_df.info())\n",
    "print('-'*50)\n",
    "\n",
    "'''Print Information on Machine Learning'''\n",
    "print('Machine Learning Info: ')\n",
    "print(machine_learning_df.info())\n",
    "print('-'*50)"
   ]
  },
  {
   "cell_type": "markdown",
   "id": "90ae2045",
   "metadata": {},
   "source": [
    "It is observed that sub_text and author has missing values. For the purpose of the analysis, the decision is made to retain the rows as the key focus for the analysis would be based on 'joined_data' and 'tokenize_join_comments' to predict whether the entry is from machine learning or statistics subreddit. "
   ]
  },
  {
   "cell_type": "markdown",
   "id": "4da13e62",
   "metadata": {},
   "source": [
    "## Concat statistics and machine learning data frame"
   ]
  },
  {
   "cell_type": "markdown",
   "id": "60ce713d",
   "metadata": {},
   "source": [
    "Next, modelling will be done the dataset for statistics and machine learning data. A new column 'is_ml' will be added to identify the whether the dataset is machine learning or statistics. Dataset from machine learning subreddit will be given a value of 1 and dataset from statistic subreddit will be given a value of 0."
   ]
  },
  {
   "cell_type": "code",
   "execution_count": 164,
   "id": "64dc6baf",
   "metadata": {},
   "outputs": [],
   "source": [
    "'''add column 'is_ml' to machine learning subreddit with value of 1 '''\n",
    "machine_learning_df['is_ml'] = 1\n",
    "statistics_df['is_ml']= 0\n",
    "\n",
    "'''concatenate statistics and machine learning df with the new column'''\n",
    "stats_ml_df = pd.concat([machine_learning_df,statistics_df],axis='rows') \n",
    "\n",
    "'''export concatenated data frame to .csv file for modelling'''\n",
    "stats_ml_df.to_csv('../datasets/stats_ml_processed_df.csv', encoding='utf-8', index=False)"
   ]
  }
 ],
 "metadata": {
  "kernelspec": {
   "display_name": "Python 3 (ipykernel)",
   "language": "python",
   "name": "python3"
  },
  "language_info": {
   "codemirror_mode": {
    "name": "ipython",
    "version": 3
   },
   "file_extension": ".py",
   "mimetype": "text/x-python",
   "name": "python",
   "nbconvert_exporter": "python",
   "pygments_lexer": "ipython3",
   "version": "3.9.12"
  }
 },
 "nbformat": 4,
 "nbformat_minor": 5
}
