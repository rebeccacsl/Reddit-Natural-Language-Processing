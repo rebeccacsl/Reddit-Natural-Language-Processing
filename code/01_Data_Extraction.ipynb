{
 "cells": [
  {
   "cell_type": "markdown",
   "id": "541ee92f",
   "metadata": {},
   "source": [
    "# Project 3: 1. Data Extraction"
   ]
  },
  {
   "cell_type": "markdown",
   "id": "8b4da9d1",
   "metadata": {},
   "source": [
    "## Package Installation"
   ]
  },
  {
   "cell_type": "code",
   "execution_count": 1,
   "id": "4ce60bca",
   "metadata": {},
   "outputs": [
    {
     "data": {
      "text/plain": [
       "'Run command to install praw'"
      ]
     },
     "execution_count": 1,
     "metadata": {},
     "output_type": "execute_result"
    }
   ],
   "source": [
    "'''Run command to install praw'''\n",
    "#pip install praw"
   ]
  },
  {
   "cell_type": "markdown",
   "id": "dad58fcd",
   "metadata": {},
   "source": [
    "## Import Libraries"
   ]
  },
  {
   "cell_type": "code",
   "execution_count": 1,
   "id": "096cc0ee",
   "metadata": {},
   "outputs": [],
   "source": [
    "'''Import Libraries'''\n",
    "import praw\n",
    "import pandas as pd\n",
    "import time\n",
    "import re"
   ]
  },
  {
   "cell_type": "markdown",
   "id": "a9b76d23",
   "metadata": {},
   "source": [
    "## Custom Function"
   ]
  },
  {
   "cell_type": "code",
   "execution_count": 2,
   "id": "a3bd26da",
   "metadata": {},
   "outputs": [],
   "source": [
    "'''Instantiate Reddit object and return credentials'''\n",
    "def instantiate_reddit_object():\n",
    "    reddit = praw.Reddit(\n",
    "    client_id=\"j1gjcNNtj5iQluwdz2JQVA\",\n",
    "    client_secret=\"z-si6aMM38657vDDr8_H6jGqFSOvvA\",\n",
    "    password=\"Shuting@#\",\n",
    "    user_agent=\"api_call\",\n",
    "    username=\"LeastAd184\",\n",
    "    )\n",
    "    return reddit"
   ]
  },
  {
   "cell_type": "code",
   "execution_count": 3,
   "id": "f062c223",
   "metadata": {},
   "outputs": [],
   "source": [
    "'''format data extracted, utf 8 encoding, remove emoji'''\n",
    "def format_info(info):\n",
    "    info_without_emojis = re.sub(r'[^\\x00-\\x7F]+', '', info)    \n",
    "    utf8_encoded_info = info.encode('ascii', 'ignore').decode()\n",
    "    \n",
    "    return utf8_encoded_info"
   ]
  },
  {
   "cell_type": "code",
   "execution_count": 20,
   "id": "b5775b70",
   "metadata": {},
   "outputs": [],
   "source": [
    "def retrieve_subreddit(post_limit_sel,reddit_string):\n",
    "    '''Instantiate Reddit Object Using Credentials'''\n",
    "    reddit = instantiate_reddit_object()\n",
    "\n",
    "    '''Get machine learning subreddit'''\n",
    "    subread = reddit.subreddit(reddit_string)\n",
    "    posts = subread.new(limit=post_limit_sel) # Set limit as None to retrieve max no of posts of around ~1000\n",
    "\n",
    "    '''Instantiate list object to store'''\n",
    "    datarow_retrieved = [] \n",
    "\n",
    "    '''loop through posts to get information'''\n",
    "    for submission in posts:    \n",
    "        '''create temporary list for each submission'''\n",
    "        temp_list = []    \n",
    "        '''check that submission is not a thread that mods have highlighted and sticking it to top of thread'''\n",
    "        if not submission.stickied:           \n",
    "            temp_list.append(submission.title)\n",
    "            temp_list.append(format_info(submission.selftext))\n",
    "            temp_list.append(submission.id)\n",
    "            temp_list.append(submission.author)\n",
    "            temp_list.append(submission.created_utc)\n",
    "            temp_list.append(submission.score)\n",
    "            temp_list.append(submission.upvote_ratio)\n",
    "            '''Instantiate comment and create temporary array for comment'''\n",
    "            submission.comments.replace_more(limit=0)\n",
    "            comments = submission.comments.list()\n",
    "            temp_comment = []\n",
    "\n",
    "            '''loop through comments if exist to add to list'''\n",
    "            for comment in comments: \n",
    "                temp_comment.append(format_info(comment.body))    \n",
    "            temp_list.append(temp_comment) # add comment to list\n",
    "            datarow_retrieved.append(temp_list) # add list of row information to list\n",
    "            time.sleep(1) # set sleep as 1 to pace the data retrieval and prevent false alarm of DDOS attack.\n",
    "    return datarow_retrieved\n"
   ]
  },
  {
   "cell_type": "markdown",
   "id": "941d5e42",
   "metadata": {},
   "source": [
    "# Retrieve Subreddits"
   ]
  },
  {
   "cell_type": "markdown",
   "id": "321834ba",
   "metadata": {},
   "source": [
    "Information wiill be retrieved from the following subreddits:\n",
    "-  Statistics: https://www.reddit.com/r/statistics/\n",
    "- Machine Learning: https://www.reddit.com/r/MachineLearning/"
   ]
  },
  {
   "cell_type": "markdown",
   "id": "204331d3",
   "metadata": {},
   "source": [
    "## Retrieve Subreddit: Statistics"
   ]
  },
  {
   "cell_type": "code",
   "execution_count": 23,
   "id": "10ce372a",
   "metadata": {},
   "outputs": [],
   "source": [
    "'''Retrieve Datarow from Subreddit'''        \n",
    "datarow_stats = retrieve_subreddit(None,\"statistics\")\n",
    "\n",
    "'''Create column for DataFrame'''\n",
    "statistics_col_stats = [\"title\",\"sub_text\",\"id\",\"author\",\"created_utc\",\"score\",\"upvote_ratio\",\"comments_list\"]\n",
    "\n",
    "'''create dataframe'''\n",
    "statistics_stats = pd.DataFrame(datarow_stats,columns = statistics_col_stats )\n",
    "statistics_stats.shape\n",
    "\n",
    "'''Export statistics DataFrame Object as CSV'''\n",
    "\n",
    "statistics_stats.to_csv('../datasets/statistics_df.csv', encoding='utf-8', index=False)"
   ]
  },
  {
   "cell_type": "markdown",
   "id": "2b9da06e",
   "metadata": {},
   "source": [
    "## Retrieve Subreddit: Machine Learning"
   ]
  },
  {
   "cell_type": "code",
   "execution_count": 21,
   "id": "3e8205b2",
   "metadata": {},
   "outputs": [],
   "source": [
    "'''Retrieve Datarow from Subreddit'''        \n",
    "datarow_ml = retrieve_subreddit(None,\"MachineLearning\")\n",
    "\n",
    "'''Create column for DataFrame'''\n",
    "statistics_col_ml = [\"title\",\"sub_text\",\"id\",\"author\",\"created_utc\",\"score\",\"upvote_ratio\",\"comments_list\"]\n",
    "\n",
    "'''create dataframe'''\n",
    "statistics_ml = pd.DataFrame(datarow_ml,columns = statistics_col_ml )\n",
    "statistics_ml.shape\n",
    "\n",
    "'''Export statistics DataFrame Object as CSV'''\n",
    "\n",
    "statistics_ml.to_csv('../datasets/machine_learning_df.csv', encoding='utf-8', index=False)"
   ]
  }
 ],
 "metadata": {
  "kernelspec": {
   "display_name": "Python 3 (ipykernel)",
   "language": "python",
   "name": "python3"
  },
  "language_info": {
   "codemirror_mode": {
    "name": "ipython",
    "version": 3
   },
   "file_extension": ".py",
   "mimetype": "text/x-python",
   "name": "python",
   "nbconvert_exporter": "python",
   "pygments_lexer": "ipython3",
   "version": "3.9.12"
  }
 },
 "nbformat": 4,
 "nbformat_minor": 5
}
